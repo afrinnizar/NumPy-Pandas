{
 "cells": [
  {
   "cell_type": "code",
   "execution_count": 1,
   "id": "34e14215-6eeb-4225-b4c5-9709ec478a22",
   "metadata": {},
   "outputs": [
    {
     "name": "stdout",
     "output_type": "stream",
     "text": [
      "<class 'numpy.ndarray'>\n",
      "(3,)\n",
      "0\n",
      "1\n",
      "2\n",
      "[5 1 2]\n"
     ]
    }
   ],
   "source": [
    " import numpy as np\n",
    " # Create a rank 1 array\n",
    " a = np.array([0, 1, 2])\n",
    "print(type(a))\n",
    " # this will print(the dimension of the array\n",
    " print(a.shape)\n",
    " print(a[0])\n",
    " print(a[1])\n",
    " print(a[2])\n",
    " # Change an element of the array\n",
    " a[0] = 5\n",
    " print(a)"
   ]
  },
  {
   "cell_type": "code",
   "execution_count": 2,
   "id": "bf0e1a06-956d-43f4-ac0f-0c589b6ab3ed",
   "metadata": {},
   "outputs": [
    {
     "name": "stdout",
     "output_type": "stream",
     "text": [
      "(2, 3)\n",
      "[[0 1 2]\n",
      " [3 4 5]]\n",
      "0 1 3\n"
     ]
    },
    {
     "data": {
      "text/plain": [
       "(2, 3)"
      ]
     },
     "execution_count": 2,
     "metadata": {},
     "output_type": "execute_result"
    }
   ],
   "source": [
    " # Create a rank 2 array\n",
    " b = np.array([[0,1,2],[3,4,5]])\n",
    " print(b.shape)\n",
    " print(b)\n",
    " print(b[0, 0], b[0, 1], b[1, 0])\n",
    " (2\n",
    " , \n",
    "3)\n"
   ]
  },
  {
   "cell_type": "code",
   "execution_count": 3,
   "id": "069e8f93-5ead-4b0d-a5c4-ac569151b540",
   "metadata": {},
   "outputs": [
    {
     "data": {
      "text/plain": [
       "array([[0., 0., 0.],\n",
       "       [0., 0., 0.],\n",
       "       [0., 0., 0.]])"
      ]
     },
     "execution_count": 3,
     "metadata": {},
     "output_type": "execute_result"
    }
   ],
   "source": [
    " # Create a 3x3 array of all zeros\n",
    " a = np.zeros((3,3))\n",
    " a\n",
    "\n"
   ]
  },
  {
   "cell_type": "code",
   "execution_count": 4,
   "id": "7331e9db-ff07-4343-8271-73d99664c071",
   "metadata": {},
   "outputs": [
    {
     "data": {
      "text/plain": [
       "array([[1., 1.],\n",
       "       [1., 1.]])"
      ]
     },
     "execution_count": 4,
     "metadata": {},
     "output_type": "execute_result"
    }
   ],
   "source": [
    " # Create a 2x2 array of all ones\n",
    " b = np.ones((2,2))\n",
    " b"
   ]
  },
  {
   "cell_type": "code",
   "execution_count": 5,
   "id": "f6522347-5ae0-4912-ab78-33b39f11b6d3",
   "metadata": {},
   "outputs": [],
   "source": [
    " c = np.full((3,3), 7)                     # Create a 3x3 constant array\n"
   ]
  },
  {
   "cell_type": "code",
   "execution_count": 6,
   "id": "f4987e84-b79b-490a-b3d1-671ec559e57d",
   "metadata": {},
   "outputs": [
    {
     "data": {
      "text/plain": [
       "array([[7, 7, 7],\n",
       "       [7, 7, 7],\n",
       "       [7, 7, 7]])"
      ]
     },
     "execution_count": 6,
     "metadata": {},
     "output_type": "execute_result"
    }
   ],
   "source": [
    "c"
   ]
  },
  {
   "cell_type": "code",
   "execution_count": 7,
   "id": "b06f65f5-2b15-4b54-aacd-85a3382fccd9",
   "metadata": {},
   "outputs": [
    {
     "data": {
      "text/plain": [
       "array([[4.87842892e-01, 9.98014025e-01, 8.44548718e-01],\n",
       "       [4.48119830e-01, 1.00463003e-01, 3.05776617e-01],\n",
       "       [5.30185815e-02, 8.44849662e-01, 4.79188444e-04]])"
      ]
     },
     "execution_count": 7,
     "metadata": {},
     "output_type": "execute_result"
    }
   ],
   "source": [
    "\n",
    " d = np.random.random((3,3))                                      # Create a 3x3 array filled with random values\n",
    " d"
   ]
  },
  {
   "cell_type": "code",
   "execution_count": 8,
   "id": "891b7cf8-2acf-4365-bd82-593d6ed912ba",
   "metadata": {},
   "outputs": [
    {
     "data": {
      "text/plain": [
       "array([[1., 0., 0.],\n",
       "       [0., 1., 0.],\n",
       "       [0., 0., 1.]])"
      ]
     },
     "execution_count": 8,
     "metadata": {},
     "output_type": "execute_result"
    }
   ],
   "source": [
    "\n",
    " e = np.eye(3)                                            # note mix of tuple and lists\n",
    " h = np.array([[0, 1,2.0],[0,0,0],(1+1j,3.,2.)])\n",
    " h\n",
    "\n",
    " e\n"
   ]
  },
  {
   "cell_type": "code",
   "execution_count": 9,
   "id": "f74f4176-6b45-4437-9e76-1c974630a50d",
   "metadata": {},
   "outputs": [
    {
     "data": {
      "text/plain": [
       "array([2, 3, 1, 0])"
      ]
     },
     "execution_count": 9,
     "metadata": {},
     "output_type": "execute_result"
    }
   ],
   "source": [
    "\n",
    " f = np.array([2, 3, 1, 0])                      # convert list to array\n",
    "\n",
    " f"
   ]
  },
  {
   "cell_type": "code",
   "execution_count": 10,
   "id": "fc8e474b-c0b5-4549-8a27-d16ce8c8e48a",
   "metadata": {},
   "outputs": [
    {
     "data": {
      "text/plain": [
       "array([ 0,  1,  2,  3,  4,  5,  6,  7,  8,  9, 10, 11, 12, 13, 14, 15, 16,\n",
       "       17, 18, 19])"
      ]
     },
     "execution_count": 10,
     "metadata": {},
     "output_type": "execute_result"
    }
   ],
   "source": [
    " g = np.arange(20)\n",
    " g                                             # arange() will create arrays with regularly incrementing value\n"
   ]
  },
  {
   "cell_type": "code",
   "execution_count": 11,
   "id": "b147f76e-f615-44ae-a979-53745a37484a",
   "metadata": {},
   "outputs": [
    {
     "data": {
      "text/plain": [
       "array([[0.+0.j, 1.+0.j, 2.+0.j],\n",
       "       [0.+0.j, 0.+0.j, 0.+0.j],\n",
       "       [1.+1.j, 3.+0.j, 2.+0.j]])"
      ]
     },
     "execution_count": 11,
     "metadata": {},
     "output_type": "execute_result"
    }
   ],
   "source": [
    "                                                          \n",
    " h = np.array([[0, 1,2.0],[0,0,0],(1+1j,3.,2.)])                 # note mix of tuple and list\n",
    " h"
   ]
  },
  {
   "cell_type": "code",
   "execution_count": 12,
   "id": "919b1f61-d1f4-4b61-8fdc-fc9ba12d725b",
   "metadata": {},
   "outputs": [
    {
     "data": {
      "text/plain": [
       "array([1., 2., 3., 4., 5., 6., 7.])"
      ]
     },
     "execution_count": 12,
     "metadata": {},
     "output_type": "execute_result"
    }
   ],
   "source": [
    " i = np.arange(1, 8, dtype=float)\n",
    "i                                                       # create an array of range with float data type"
   ]
  },
  {
   "cell_type": "code",
   "execution_count": 13,
   "id": "217fff1b-b1b5-4ac4-a2c8-a0dd7daad0e4",
   "metadata": {},
   "outputs": [
    {
     "data": {
      "text/plain": [
       "array([2. , 2.5, 3. , 3.5, 4. ])"
      ]
     },
     "execution_count": 13,
     "metadata": {},
     "output_type": "execute_result"
    }
   ],
   "source": [
    " # linspace() will create arrays with a specified number of items which are\n",
    " # spaced equally between the specified beginning and end values\n",
    " j = np.linspace(2., 4., 5)\n",
    " j\n"
   ]
  },
  {
   "cell_type": "code",
   "execution_count": 14,
   "id": "0cf9ce59-c2f5-41e8-8f4a-b87d1778198c",
   "metadata": {},
   "outputs": [
    {
     "data": {
      "text/plain": [
       "array([[[0, 0],\n",
       "        [1, 1]],\n",
       "\n",
       "       [[0, 1],\n",
       "        [0, 1]]])"
      ]
     },
     "execution_count": 14,
     "metadata": {},
     "output_type": "execute_result"
    }
   ],
   "source": [
    " # indices() will create a set of arrays stacked as a one-higher\n",
    " # dimensioned array, one per dimension with each representing variation\n",
    " # in that dimension\n",
    " k = np.indices((2,2))\n",
    " k\n",
    " "
   ]
  },
  {
   "cell_type": "code",
   "execution_count": 15,
   "id": "d32c9667-c055-4369-ab6b-7eb09c7223bd",
   "metadata": {},
   "outputs": [
    {
     "name": "stdout",
     "output_type": "stream",
     "text": [
      "int64 float64 int64\n"
     ]
    }
   ],
   "source": [
    " # Let numpy choose the datatype\n",
    " x = np.array([0, 1])\n",
    " y = np.array([2.0, 3.0])\n",
    " # Force a particular datatype\n",
    " z = np.array([5, 6], dtype=np.int64)\n",
    " print(x.dtype, y.dtype, z.dtype)"
   ]
  },
  {
   "cell_type": "code",
   "execution_count": 16,
   "id": "4c97704b-4824-4571-9aec-766a3d78ec9b",
   "metadata": {},
   "outputs": [
    {
     "name": "stdout",
     "output_type": "stream",
     "text": [
      "x['a'].shape:  (3, 3)\n",
      "x['a'].dtype:  int32\n",
      "x['b'].shape:  (3, 3, 3, 3)\n",
      "x['b'].dtype:  float64\n"
     ]
    }
   ],
   "source": [
    " x = np.zeros((3, 3), dtype=[('a', np.int32), ('b', np.float64, (3, 3))])\n",
    " print(\"x['a'].shape: \", x['a'].shape)\n",
    " print(\"x['a'].dtype: \", x['a'].dtype)\n",
    " print(\"x['b'].shape: \", x['b'].shape)\n",
    " print(\"x['b'].dtype: \", x['b'].dtype)"
   ]
  },
  {
   "cell_type": "code",
   "execution_count": 17,
   "id": "10a26706-9b18-4731-bed6-05c249c67d10",
   "metadata": {},
   "outputs": [
    {
     "data": {
      "text/plain": [
       "array([6, 8])"
      ]
     },
     "execution_count": 17,
     "metadata": {},
     "output_type": "execute_result"
    }
   ],
   "source": [
    " x = np.array([5, 6, 7, 8, 9])\n",
    " x[1:7:2]\n"
   ]
  },
  {
   "cell_type": "code",
   "execution_count": 18,
   "id": "408e07c3-9b48-4f74-8fff-a84ebaf128c6",
   "metadata": {},
   "outputs": [
    {
     "name": "stdout",
     "output_type": "stream",
     "text": [
      "[8 9]\n",
      "[9 8 7]\n"
     ]
    }
   ],
   "source": [
    "print(x[-2:5])\n",
    "print(x[-1:1:-1])"
   ]
  },
  {
   "cell_type": "code",
   "execution_count": 19,
   "id": "eeb94403-3083-4883-a3bc-87238412358a",
   "metadata": {},
   "outputs": [
    {
     "data": {
      "text/plain": [
       "array([9])"
      ]
     },
     "execution_count": 19,
     "metadata": {},
     "output_type": "execute_result"
    }
   ],
   "source": [
    " x[4:]"
   ]
  },
  {
   "cell_type": "code",
   "execution_count": 20,
   "id": "2a28e177-b013-4f0d-bbee-c1947631c8ff",
   "metadata": {},
   "outputs": [
    {
     "name": "stdout",
     "output_type": "stream",
     "text": [
      "Shape of y:  (2, 3, 1)\n"
     ]
    },
    {
     "data": {
      "text/plain": [
       "array([[[4],\n",
       "        [5],\n",
       "        [6]]])"
      ]
     },
     "execution_count": 20,
     "metadata": {},
     "output_type": "execute_result"
    }
   ],
   "source": [
    " y = np.array([[[1], [2], [3]],\n",
    " [[4], [5], [6]]])\n",
    " print(\"Shape of y: \", y.shape)\n",
    " y[1:3]\n"
   ]
  },
  {
   "cell_type": "code",
   "execution_count": 21,
   "id": "d7b68e87-5ba6-4852-b75a-1aaf00e10fd4",
   "metadata": {},
   "outputs": [
    {
     "data": {
      "text/plain": [
       "array(5)"
      ]
     },
     "execution_count": 21,
     "metadata": {},
     "output_type": "execute_result"
    }
   ],
   "source": [
    " x[...,0]\n"
   ]
  },
  {
   "cell_type": "code",
   "execution_count": 22,
   "id": "5f6c14f1-c764-4d4c-8d39-fb7a934ac150",
   "metadata": {},
   "outputs": [
    {
     "name": "stdout",
     "output_type": "stream",
     "text": [
      "Array a: [[ 5  6  7  8]\n",
      " [ 1  2  3  4]\n",
      " [ 9 10 11 12]]\n"
     ]
    }
   ],
   "source": [
    " a = np.array([[5, 6, 7, 8],\n",
    " [1, 2, 3, 4],\n",
    " [9, 10, 11, 12]])\n",
    " print(\"Array a:\", a)\n",
    "\n",
    "\n"
   ]
  },
  {
   "cell_type": "code",
   "execution_count": 23,
   "id": "a4883694-b137-42e2-beeb-c6960624e9f4",
   "metadata": {},
   "outputs": [
    {
     "name": "stdout",
     "output_type": "stream",
     "text": [
      "Array b:\n",
      " [[6 7]\n",
      " [2 3]]\n"
     ]
    }
   ],
   "source": [
    " b = a[:2, 1:3]\n",
    " print(\"Array b:\\n\", b)"
   ]
  },
  {
   "cell_type": "code",
   "execution_count": 24,
   "id": "aabfdfee-8cbf-4f8a-841c-54e73cceaae0",
   "metadata": {},
   "outputs": [
    {
     "name": "stdout",
     "output_type": "stream",
     "text": [
      "6\n",
      "77\n"
     ]
    }
   ],
   "source": [
    " print(a[0, 1])\n",
    " b[0, 0] = 77\n",
    " print(a[0, 1])\n"
   ]
  },
  {
   "cell_type": "code",
   "execution_count": 25,
   "id": "d5baa2fa-c339-4f49-a6df-2f0da7f169a0",
   "metadata": {},
   "outputs": [
    {
     "name": "stdout",
     "output_type": "stream",
     "text": [
      "[1 2 3 4] (4,)\n",
      "[[1 2 3 4]] (1, 4)\n"
     ]
    }
   ],
   "source": [
    " row_r1 = a[1, :]   # Rank 1 view of the second row of a\n",
    " row_r2 = a[1:2, :] # Rank 2 view of the second row of a\n",
    " print(row_r1, row_r1.shape)  # Prints \"[1 2 3 4] (4,)\"\n",
    " print(row_r2, row_r2.shape)  # Prints \"[[1 2 3 4]] (1, 4)\"\n"
   ]
  },
  {
   "cell_type": "code",
   "execution_count": 26,
   "id": "19d763a4-879b-41e7-b3bc-be049e792159",
   "metadata": {},
   "outputs": [
    {
     "name": "stdout",
     "output_type": "stream",
     "text": [
      "[77  2 10] (3,)\n",
      "[[77]\n",
      " [ 2]\n",
      " [10]] (3, 1)\n"
     ]
    }
   ],
   "source": [
    " # Accessing columns of an array\n",
    " col_r1 = a[:, 1]    \n",
    "# Rank 1 view of the second column\n",
    " col_r2 = a[:, 1:2]  # Rank 2 view of the second column\n",
    " print(col_r1, col_r1.shape)  # Prints \"[6 2 10] (3,)\"\n",
    " print(col_r2, col_r2.shape)  # Prints \"[[6] [2] [10]] (3, 1)\"\n"
   ]
  },
  {
   "cell_type": "code",
   "execution_count": 27,
   "id": "2063f051-6025-4506-917b-862a32a0e2c0",
   "metadata": {},
   "outputs": [
    {
     "name": "stdout",
     "output_type": "stream",
     "text": [
      "[5 2]\n",
      "[5 2]\n"
     ]
    }
   ],
   "source": [
    " # An example of integer array indexing.\n",
    " # The returned array will have shape (2,) and\n",
    " print(a[[0, 1], [0, 1]])\n",
    " # The above example of integer array indexing is equivalent to this:\n",
    " print(np.array([a[0, 0], a[1, 1]]))\n"
   ]
  },
  {
   "cell_type": "code",
   "execution_count": 28,
   "id": "b20c7f21-b73a-40fb-becf-b47854c48d14",
   "metadata": {},
   "outputs": [
    {
     "name": "stdout",
     "output_type": "stream",
     "text": [
      "[77 77]\n"
     ]
    }
   ],
   "source": [
    " # When using integer array indexing, you can reuse the same element from th\n",
    " print(a[[0, 0], [1, 1]])\n"
   ]
  },
  {
   "cell_type": "code",
   "execution_count": 29,
   "id": "f98b3674-3ae3-4f20-9191-510df40f2a6a",
   "metadata": {},
   "outputs": [
    {
     "name": "stdout",
     "output_type": "stream",
     "text": [
      "[77 77]\n"
     ]
    }
   ],
   "source": [
    " # Equivalent to the previous integer array indexing example\n",
    " print(np.array([a[0, 1], a[0, 1]]))\n"
   ]
  },
  {
   "cell_type": "code",
   "execution_count": 30,
   "id": "bc1abd42-73fa-42e8-adc7-73b68239c885",
   "metadata": {},
   "outputs": [],
   "source": [
    "\n",
    " a = np.array([[1, 2], [3, 4], [5, 6]])                # Boolean array indexing: Useful to pick elements from an array that satisfy\n"
   ]
  },
  {
   "cell_type": "code",
   "execution_count": 31,
   "id": "6dd699bf-a05b-4a90-bf6c-65a06debb15f",
   "metadata": {},
   "outputs": [
    {
     "name": "stdout",
     "output_type": "stream",
     "text": [
      "[[False False]\n",
      " [ True  True]\n",
      " [ True  True]]\n"
     ]
    }
   ],
   "source": [
    " # Find the elements of a that are bigger than 2\n",
    " print(a > 2)"
   ]
  },
  {
   "cell_type": "code",
   "execution_count": 32,
   "id": "2524c05b-dba4-4c6a-a04f-f533e69f6c3e",
   "metadata": {},
   "outputs": [
    {
     "name": "stdout",
     "output_type": "stream",
     "text": [
      "[3 4 5 6]\n"
     ]
    }
   ],
   "source": [
    " # Get the actual values\n",
    " print(a[a > 2])\n"
   ]
  },
  {
   "cell_type": "code",
   "execution_count": 33,
   "id": "ea57307b-67a6-4e98-98f4-01fae1643740",
   "metadata": {},
   "outputs": [],
   "source": [
    "\n",
    " x = np.array([[1, 2], [3, 4], [5, 6]])\n",
    " y = np.array([[7, 8], [9, 10], [11, 12]])              # Element-wise operations\n"
   ]
  },
  {
   "cell_type": "code",
   "execution_count": 34,
   "id": "198c374b-0d95-43ae-a6fe-5eeba1da2748",
   "metadata": {},
   "outputs": [
    {
     "name": "stdout",
     "output_type": "stream",
     "text": [
      "[[ 8 10]\n",
      " [12 14]\n",
      " [16 18]]\n",
      "[[ 8 10]\n",
      " [12 14]\n",
      " [16 18]]\n"
     ]
    }
   ],
   "source": [
    " # Elementwise sum; both produce the array\n",
    " print(x + y)\n",
    " print(np.add(x, y))\n",
    "\n"
   ]
  },
  {
   "cell_type": "code",
   "execution_count": 35,
   "id": "12587499-1a6c-4cae-ba2b-b004cb758f16",
   "metadata": {},
   "outputs": [
    {
     "name": "stdout",
     "output_type": "stream",
     "text": [
      "[[-6 -6]\n",
      " [-6 -6]\n",
      " [-6 -6]]\n",
      "[[-6 -6]\n",
      " [-6 -6]\n",
      " [-6 -6]]\n"
     ]
    }
   ],
   "source": [
    " # Elementwise difference; both produce the array\n",
    " print(x - y)\n",
    " print(np.subtract(x, y))\n"
   ]
  },
  {
   "cell_type": "code",
   "execution_count": 36,
   "id": "7bdd0cb5-17c6-4a20-aba5-246f95fa3c89",
   "metadata": {},
   "outputs": [
    {
     "name": "stdout",
     "output_type": "stream",
     "text": [
      "[[ 7 16]\n",
      " [27 40]\n",
      " [55 72]]\n",
      "[[ 7 16]\n",
      " [27 40]\n",
      " [55 72]]\n"
     ]
    }
   ],
   "source": [
    " # Elementwise product; both produce the array\n",
    " print(x * y)\n",
    " print(np.multiply(x, y))\n"
   ]
  },
  {
   "cell_type": "code",
   "execution_count": 37,
   "id": "8061251d-643f-49ef-b4b4-b1a8c3fa4573",
   "metadata": {},
   "outputs": [
    {
     "name": "stdout",
     "output_type": "stream",
     "text": [
      "[[0.14285714 0.25      ]\n",
      " [0.33333333 0.4       ]\n",
      " [0.45454545 0.5       ]]\n",
      "[[0.14285714 0.25      ]\n",
      " [0.33333333 0.4       ]\n",
      " [0.45454545 0.5       ]]\n"
     ]
    }
   ],
   "source": [
    " # Elementwise division; both produce the array\n",
    " print(x / y)\n",
    " print(np.divide(x, y))\n"
   ]
  },
  {
   "cell_type": "code",
   "execution_count": 38,
   "id": "2efdeca5-ba0b-49d6-8de8-9f49978020db",
   "metadata": {},
   "outputs": [
    {
     "name": "stdout",
     "output_type": "stream",
     "text": [
      "[[1.         1.41421356]\n",
      " [1.73205081 2.        ]\n",
      " [2.23606798 2.44948974]]\n"
     ]
    }
   ],
   "source": [
    " # Elementwise square root; produces the array\n",
    " print(np.sqrt(x))\n"
   ]
  },
  {
   "cell_type": "code",
   "execution_count": 39,
   "id": "58d75403-2e93-49b5-9e73-30e30f79d3b0",
   "metadata": {},
   "outputs": [],
   "source": [
    " # Dot product examples\n",
    " x = np.array([[1, 2], [3, 4]])\n",
    " y = np.array([[5, 6], [7, 8]])\n",
    " a_vec = np.array([9, 10])\n",
    " b_vec = np.array([11, 12])\n"
   ]
  },
  {
   "cell_type": "code",
   "execution_count": 40,
   "id": "e8bdb49e-a440-46aa-a37a-6f24acdf7a1b",
   "metadata": {},
   "outputs": [
    {
     "name": "stdout",
     "output_type": "stream",
     "text": [
      "219\n",
      "219\n"
     ]
    }
   ],
   "source": [
    " # Inner product of vectors\n",
    " print(a_vec.dot(b_vec))\n",
    " print(np.dot(a_vec, b_vec))\n"
   ]
  },
  {
   "cell_type": "code",
   "execution_count": 41,
   "id": "6d7828c5-8c79-47d6-a70c-95ad10b0dc01",
   "metadata": {},
   "outputs": [
    {
     "name": "stdout",
     "output_type": "stream",
     "text": [
      "[29 67]\n",
      "[29 67]\n"
     ]
    }
   ],
   "source": [
    " # Matrix / vector product\n",
    " print(x.dot(a_vec))\n",
    " print(np.dot(x, a_vec))\n"
   ]
  },
  {
   "cell_type": "code",
   "execution_count": 42,
   "id": "ff8b4035-ddd8-4f11-ae6c-52884bdf5094",
   "metadata": {},
   "outputs": [
    {
     "name": "stdout",
     "output_type": "stream",
     "text": [
      "[[19 22]\n",
      " [43 50]]\n",
      "[[19 22]\n",
      " [43 50]]\n"
     ]
    }
   ],
   "source": [
    " # Matrix / matrix product\n",
    " print(x.dot(y))\n",
    " print(np.dot(x, y))\n"
   ]
  },
  {
   "cell_type": "code",
   "execution_count": 43,
   "id": "dd0f30e1-5a33-4f49-a4e6-095fa58bd087",
   "metadata": {},
   "outputs": [],
   "source": [
    " # Sum function\n",
    " x = np.array([[1, 2], [3, 4]])\n"
   ]
  },
  {
   "cell_type": "code",
   "execution_count": 44,
   "id": "2c17a6a6-6b4f-4684-ba6f-2bebec5145c1",
   "metadata": {},
   "outputs": [
    {
     "name": "stdout",
     "output_type": "stream",
     "text": [
      "10\n"
     ]
    }
   ],
   "source": [
    " # Compute sum of all elements\n",
    " print(np.sum(x))\n"
   ]
  },
  {
   "cell_type": "code",
   "execution_count": 45,
   "id": "3eb4f845-1446-4e73-b043-5ee11d3f1f42",
   "metadata": {},
   "outputs": [
    {
     "name": "stdout",
     "output_type": "stream",
     "text": [
      "[4 6]\n"
     ]
    }
   ],
   "source": [
    " # Compute sum of each column\n",
    " print(np.sum(x, axis=0))\n"
   ]
  },
  {
   "cell_type": "code",
   "execution_count": 46,
   "id": "afa524b8-fb0f-4d0a-9fb3-beede17ca053",
   "metadata": {},
   "outputs": [
    {
     "name": "stdout",
     "output_type": "stream",
     "text": [
      "[3 7]\n"
     ]
    }
   ],
   "source": [
    " # Compute sum of each row\n",
    " print(np.sum(x, axis=1))\n",
    " \n"
   ]
  },
  {
   "cell_type": "code",
   "execution_count": 47,
   "id": "d15ee320-f631-4e80-9087-932ba5cac729",
   "metadata": {},
   "outputs": [
    {
     "name": "stdout",
     "output_type": "stream",
     "text": [
      "[[1 2]\n",
      " [3 4]]\n",
      "[[1 3]\n",
      " [2 4]]\n"
     ]
    }
   ],
   "source": [
    " # Transpose\n",
    " x = np.array([[1, 2], [3, 4]])\n",
    " print(x)\n",
    " print(x.T)\n"
   ]
  },
  {
   "cell_type": "code",
   "execution_count": 48,
   "id": "ebb6d459-e767-4ffd-b899-1195d7981971",
   "metadata": {},
   "outputs": [
    {
     "name": "stdout",
     "output_type": "stream",
     "text": [
      "[1 2 3]\n",
      "[1 2 3]\n"
     ]
    }
   ],
   "source": [
    " # Note that taking the transpose of a rank 1 array does nothing\n",
    " v = np.array([1, 2, 3])\n",
    " print(v)\n",
    " print(v.T)\n"
   ]
  },
  {
   "cell_type": "code",
   "execution_count": 49,
   "id": "ba8fe428-4aa7-44db-a6da-6ace1983da6c",
   "metadata": {},
   "outputs": [],
   "source": [
    " # Broadcasting\n",
    " # Adding a vector to each row of a matrix\n",
    " a = np.array([[1, 2, 3], [4, 5, 6], [7, 8, 9]])\n",
    " v = np.array([1, 0, 1])\n"
   ]
  },
  {
   "cell_type": "code",
   "execution_count": 50,
   "id": "cfd081f2-a3c0-4c49-b31a-aa0f6bc30dfa",
   "metadata": {},
   "outputs": [
    {
     "name": "stdout",
     "output_type": "stream",
     "text": [
      "[[ 2  2  4]\n",
      " [ 5  5  7]\n",
      " [ 8  8 10]]\n"
     ]
    }
   ],
   "source": [
    " # Add the vector v to each row of the matrix a with an explicit loop\n",
    " b = np.empty_like(a)\n",
    " for i in range(3):\n",
    "    b[i, :] = a[i, :] + v\n",
    " print(b)\n"
   ]
  },
  {
   "cell_type": "code",
   "execution_count": 51,
   "id": "9b74f4ed-63e6-4346-9150-6389d900b2bb",
   "metadata": {},
   "outputs": [
    {
     "name": "stdout",
     "output_type": "stream",
     "text": [
      "[[1 0 1]\n",
      " [1 0 1]\n",
      " [1 0 1]]\n"
     ]
    }
   ],
   "source": [
    " # Stack 3 copies of v on top of each other\n",
    " # Using np.tile to create a repeated matrix\n",
    " vv = np.tile(v, (3, 1))\n",
    " print(vv)\n"
   ]
  },
  {
   "cell_type": "code",
   "execution_count": 52,
   "id": "26e6b81d-f253-4029-816c-908b35076d11",
   "metadata": {},
   "outputs": [
    {
     "name": "stdout",
     "output_type": "stream",
     "text": [
      "[[ 2  2  4]\n",
      " [ 5  5  7]\n",
      " [ 8  8 10]]\n"
     ]
    }
   ],
   "source": [
    " # Add a and vv elementwise\n",
    " b = a + vv\n",
    " print(b)\n"
   ]
  },
  {
   "cell_type": "code",
   "execution_count": 53,
   "id": "d1fd82c3-e1c8-4ff0-ad61-b25005e99cf6",
   "metadata": {},
   "outputs": [
    {
     "name": "stdout",
     "output_type": "stream",
     "text": [
      "[[ 2  2  4]\n",
      " [ 5  5  7]\n",
      " [ 8  8 10]]\n"
     ]
    }
   ],
   "source": [
    " a = np.array([[1,2,3], [4,5,6], [7,8,9]])\n",
    " v = np.array([1, 0, 1])\n",
    " # Add v to each row of a using broadcasting\n",
    " b = a + v\n",
    " print(b)\n"
   ]
  },
  {
   "cell_type": "code",
   "execution_count": 54,
   "id": "56d3afb9-3ff8-4f28-9276-a0609bf7116a",
   "metadata": {},
   "outputs": [
    {
     "name": "stdout",
     "output_type": "stream",
     "text": [
      "[[ 4  5]\n",
      " [ 8 10]\n",
      " [12 15]]\n"
     ]
    }
   ],
   "source": [
    " # Applications of broadcasting\n",
    " # Compute outer product of vectors\n",
    " v = np.array([1, 2, 3])  # shape (3,)\n",
    " w = np.array([4, 5])     \n",
    "# shape (2,)\n",
    " # Reshape v to (3,1) and broadcast against w to get (3,2)\n",
    " print(np.reshape(v, (3, 1)) * w)\n"
   ]
  },
  {
   "cell_type": "code",
   "execution_count": 55,
   "id": "f0d8fd6e-6322-4227-b25e-5f61a5ea466b",
   "metadata": {},
   "outputs": [
    {
     "name": "stdout",
     "output_type": "stream",
     "text": [
      "[[2 4 6]\n",
      " [5 7 9]]\n"
     ]
    }
   ],
   "source": [
    " # Add a vector to each row of a matrix\n",
    " x = np.array([[1, 2, 3], [4, 5, 6]])\n",
    " print(x + v)\n"
   ]
  },
  {
   "cell_type": "code",
   "execution_count": 56,
   "id": "955e3b06-bf38-4eb4-b9ec-b644d154ca55",
   "metadata": {},
   "outputs": [
    {
     "name": "stdout",
     "output_type": "stream",
     "text": [
      "[[ 5  6  7]\n",
      " [ 9 10 11]]\n",
      "[[ 5  6  7]\n",
      " [ 9 10 11]]\n"
     ]
    }
   ],
   "source": [
    " # Add a vector to each column of a matrix\n",
    " # Using transpose and broadcasting\n",
    " print((x.T + w).T)\n",
    " # Alternative: reshape w to (2,1)\n",
    " print(x + np.reshape(w, (2, 1)))\n"
   ]
  },
  {
   "cell_type": "code",
   "execution_count": 57,
   "id": "1f15d63b-ef13-4904-a90a-22916cb3f37e",
   "metadata": {},
   "outputs": [
    {
     "name": "stdout",
     "output_type": "stream",
     "text": [
      "[[ 2  4  6]\n",
      " [ 8 10 12]]\n"
     ]
    }
   ],
   "source": [
    "\n",
    " print(x * 2)                      # Multiply a matrix by a constant\n",
    "\n",
    "                    \n",
    "\n"
   ]
  },
  {
   "cell_type": "code",
   "execution_count": 58,
   "id": "d32cd9a1-71a7-4fd9-a044-64ab06be63cf",
   "metadata": {},
   "outputs": [],
   "source": [
    " import pandas as pd\n"
   ]
  },
  {
   "cell_type": "code",
   "execution_count": 59,
   "id": "00bc649e-6bb5-4ea1-8c03-a48118cb5734",
   "metadata": {},
   "outputs": [
    {
     "name": "stdout",
     "output_type": "stream",
     "text": [
      "A    1.0\n",
      "B    2.0\n",
      "C    3.0\n",
      "D    NaN\n",
      "E    5.0\n",
      "F    6.0\n",
      "dtype: float64\n"
     ]
    }
   ],
   "source": [
    " # creating a series by passing a list of values, and a custom index label.\n",
    " # Note that the labeled index reference for each row and it can have duplic\n",
    "s = pd.Series([1,2,3,np.nan,5,6], index=['A','B','C','D','E','F'])\n",
    " print(s)\n",
    "\n"
   ]
  },
  {
   "cell_type": "code",
   "execution_count": 60,
   "id": "178b9b6d-89ad-422d-be95-fd7c4982b1fa",
   "metadata": {},
   "outputs": [
    {
     "name": "stdout",
     "output_type": "stream",
     "text": [
      "  Emp_ID Gender  Age\n",
      "0    E01      F   25\n",
      "1    E02      M   27\n",
      "2    E03      M   25\n"
     ]
    }
   ],
   "source": [
    " data = {'Gender': ['F', 'M', 'M'],'Emp_ID': ['E01', 'E02',\n",
    " 'E03'], 'Age': [25, 27, 25]}\n",
    " # We want the order the columns, so lets specify in columns parameter\n",
    " df = pd.DataFrame(data, columns=['Emp_ID','Gender', 'Age'])\n",
    " print(df)"
   ]
  },
  {
   "cell_type": "code",
   "execution_count": 62,
   "id": "bb9a24f9-4458-4127-a7da-e573a06bff93",
   "metadata": {},
   "outputs": [],
   "source": [
    " # Reading\n",
    "df=pd.read_csv('mtcars.csv') # from csv\n",
    "df=pd.read_csv('mtcars.txt', sep='\\t') # from text file\n",
    "df=pd.read_excel('mtcars.xlsx',sheet_name = 'Sheet1') # from Excel\n",
    " # reading from multiple sheets of same Excel into different dataframes\n",
    "xlsx = pd.ExcelFile('mtcars.xlsx')\n",
    "sheet1_df = pd.read_excel(xlsx, 'Sheet1')\n",
    "#sheet2_df = pd.read_excel(xlsx, 'Sheet2')"
   ]
  },
  {
   "cell_type": "code",
   "execution_count": 65,
   "id": "ddab65a0-1095-4559-85f7-4dbfed185655",
   "metadata": {},
   "outputs": [],
   "source": [
    "# index = False parameter will not write the index values, default is True\n",
    "df.to_csv('mtcars_new.csv', index=False)\n",
    "df.to_csv('mtcars_new.txt', sep='\\t', index=False)\n",
    "df.to_excel('mtcars_new.xlsx',sheet_name='Sheet1', index = False)\n"
   ]
  },
  {
   "cell_type": "code",
   "execution_count": 76,
   "id": "4bea420a-7792-4bc5-9794-ff39df718436",
   "metadata": {},
   "outputs": [],
   "source": [
    "df = pd.read_csv(\"https://raw.githubusercontent.com/lovnishverma/datasets/refs/heads/main/iris_default.csv\")"
   ]
  },
  {
   "cell_type": "code",
   "execution_count": 77,
   "id": "3f619a78-dc71-44f7-af75-543d7e787caa",
   "metadata": {},
   "outputs": [
    {
     "data": {
      "text/html": [
       "<div>\n",
       "<style scoped>\n",
       "    .dataframe tbody tr th:only-of-type {\n",
       "        vertical-align: middle;\n",
       "    }\n",
       "\n",
       "    .dataframe tbody tr th {\n",
       "        vertical-align: top;\n",
       "    }\n",
       "\n",
       "    .dataframe thead th {\n",
       "        text-align: right;\n",
       "    }\n",
       "</style>\n",
       "<table border=\"1\" class=\"dataframe\">\n",
       "  <thead>\n",
       "    <tr style=\"text-align: right;\">\n",
       "      <th></th>\n",
       "      <th>sepal length (cm)</th>\n",
       "      <th>sepal width (cm)</th>\n",
       "      <th>petal length (cm)</th>\n",
       "      <th>petal width (cm)</th>\n",
       "    </tr>\n",
       "  </thead>\n",
       "  <tbody>\n",
       "    <tr>\n",
       "      <th>count</th>\n",
       "      <td>150.000000</td>\n",
       "      <td>150.000000</td>\n",
       "      <td>150.000000</td>\n",
       "      <td>150.000000</td>\n",
       "    </tr>\n",
       "    <tr>\n",
       "      <th>mean</th>\n",
       "      <td>5.843333</td>\n",
       "      <td>3.057333</td>\n",
       "      <td>3.758000</td>\n",
       "      <td>1.199333</td>\n",
       "    </tr>\n",
       "    <tr>\n",
       "      <th>std</th>\n",
       "      <td>0.828066</td>\n",
       "      <td>0.435866</td>\n",
       "      <td>1.765298</td>\n",
       "      <td>0.762238</td>\n",
       "    </tr>\n",
       "    <tr>\n",
       "      <th>min</th>\n",
       "      <td>4.300000</td>\n",
       "      <td>2.000000</td>\n",
       "      <td>1.000000</td>\n",
       "      <td>0.100000</td>\n",
       "    </tr>\n",
       "    <tr>\n",
       "      <th>25%</th>\n",
       "      <td>5.100000</td>\n",
       "      <td>2.800000</td>\n",
       "      <td>1.600000</td>\n",
       "      <td>0.300000</td>\n",
       "    </tr>\n",
       "    <tr>\n",
       "      <th>50%</th>\n",
       "      <td>5.800000</td>\n",
       "      <td>3.000000</td>\n",
       "      <td>4.350000</td>\n",
       "      <td>1.300000</td>\n",
       "    </tr>\n",
       "    <tr>\n",
       "      <th>75%</th>\n",
       "      <td>6.400000</td>\n",
       "      <td>3.300000</td>\n",
       "      <td>5.100000</td>\n",
       "      <td>1.800000</td>\n",
       "    </tr>\n",
       "    <tr>\n",
       "      <th>max</th>\n",
       "      <td>7.900000</td>\n",
       "      <td>4.400000</td>\n",
       "      <td>6.900000</td>\n",
       "      <td>2.500000</td>\n",
       "    </tr>\n",
       "  </tbody>\n",
       "</table>\n",
       "</div>"
      ],
      "text/plain": [
       "       sepal length (cm)  sepal width (cm)  petal length (cm)  \\\n",
       "count         150.000000        150.000000         150.000000   \n",
       "mean            5.843333          3.057333           3.758000   \n",
       "std             0.828066          0.435866           1.765298   \n",
       "min             4.300000          2.000000           1.000000   \n",
       "25%             5.100000          2.800000           1.600000   \n",
       "50%             5.800000          3.000000           4.350000   \n",
       "75%             6.400000          3.300000           5.100000   \n",
       "max             7.900000          4.400000           6.900000   \n",
       "\n",
       "       petal width (cm)  \n",
       "count        150.000000  \n",
       "mean           1.199333  \n",
       "std            0.762238  \n",
       "min            0.100000  \n",
       "25%            0.300000  \n",
       "50%            1.300000  \n",
       "75%            1.800000  \n",
       "max            2.500000  "
      ]
     },
     "execution_count": 77,
     "metadata": {},
     "output_type": "execute_result"
    }
   ],
   "source": [
    "df.describe()"
   ]
  },
  {
   "cell_type": "code",
   "execution_count": 78,
   "id": "df4f4883-4b13-4250-9b70-54b85a09d559",
   "metadata": {},
   "outputs": [
    {
     "data": {
      "text/html": [
       "<div>\n",
       "<style scoped>\n",
       "    .dataframe tbody tr th:only-of-type {\n",
       "        vertical-align: middle;\n",
       "    }\n",
       "\n",
       "    .dataframe tbody tr th {\n",
       "        vertical-align: top;\n",
       "    }\n",
       "\n",
       "    .dataframe thead th {\n",
       "        text-align: right;\n",
       "    }\n",
       "</style>\n",
       "<table border=\"1\" class=\"dataframe\">\n",
       "  <thead>\n",
       "    <tr style=\"text-align: right;\">\n",
       "      <th></th>\n",
       "      <th>sepal length (cm)</th>\n",
       "      <th>sepal width (cm)</th>\n",
       "      <th>petal length (cm)</th>\n",
       "      <th>petal width (cm)</th>\n",
       "    </tr>\n",
       "  </thead>\n",
       "  <tbody>\n",
       "    <tr>\n",
       "      <th>sepal length (cm)</th>\n",
       "      <td>0.685694</td>\n",
       "      <td>-0.042434</td>\n",
       "      <td>1.274315</td>\n",
       "      <td>0.516271</td>\n",
       "    </tr>\n",
       "    <tr>\n",
       "      <th>sepal width (cm)</th>\n",
       "      <td>-0.042434</td>\n",
       "      <td>0.189979</td>\n",
       "      <td>-0.329656</td>\n",
       "      <td>-0.121639</td>\n",
       "    </tr>\n",
       "    <tr>\n",
       "      <th>petal length (cm)</th>\n",
       "      <td>1.274315</td>\n",
       "      <td>-0.329656</td>\n",
       "      <td>3.116278</td>\n",
       "      <td>1.295609</td>\n",
       "    </tr>\n",
       "    <tr>\n",
       "      <th>petal width (cm)</th>\n",
       "      <td>0.516271</td>\n",
       "      <td>-0.121639</td>\n",
       "      <td>1.295609</td>\n",
       "      <td>0.581006</td>\n",
       "    </tr>\n",
       "  </tbody>\n",
       "</table>\n",
       "</div>"
      ],
      "text/plain": [
       "                   sepal length (cm)  sepal width (cm)  petal length (cm)  \\\n",
       "sepal length (cm)           0.685694         -0.042434           1.274315   \n",
       "sepal width (cm)           -0.042434          0.189979          -0.329656   \n",
       "petal length (cm)           1.274315         -0.329656           3.116278   \n",
       "petal width (cm)            0.516271         -0.121639           1.295609   \n",
       "\n",
       "                   petal width (cm)  \n",
       "sepal length (cm)          0.516271  \n",
       "sepal width (cm)          -0.121639  \n",
       "petal length (cm)          1.295609  \n",
       "petal width (cm)           0.581006  "
      ]
     },
     "execution_count": 78,
     "metadata": {},
     "output_type": "execute_result"
    }
   ],
   "source": [
    "df.cov()"
   ]
  },
  {
   "cell_type": "code",
   "execution_count": 79,
   "id": "0b93e964-4b3b-4267-a8a0-81974cfbb474",
   "metadata": {},
   "outputs": [
    {
     "data": {
      "text/html": [
       "<div>\n",
       "<style scoped>\n",
       "    .dataframe tbody tr th:only-of-type {\n",
       "        vertical-align: middle;\n",
       "    }\n",
       "\n",
       "    .dataframe tbody tr th {\n",
       "        vertical-align: top;\n",
       "    }\n",
       "\n",
       "    .dataframe thead th {\n",
       "        text-align: right;\n",
       "    }\n",
       "</style>\n",
       "<table border=\"1\" class=\"dataframe\">\n",
       "  <thead>\n",
       "    <tr style=\"text-align: right;\">\n",
       "      <th></th>\n",
       "      <th>sepal length (cm)</th>\n",
       "      <th>sepal width (cm)</th>\n",
       "      <th>petal length (cm)</th>\n",
       "      <th>petal width (cm)</th>\n",
       "    </tr>\n",
       "  </thead>\n",
       "  <tbody>\n",
       "    <tr>\n",
       "      <th>sepal length (cm)</th>\n",
       "      <td>1.000000</td>\n",
       "      <td>-0.117570</td>\n",
       "      <td>0.871754</td>\n",
       "      <td>0.817941</td>\n",
       "    </tr>\n",
       "    <tr>\n",
       "      <th>sepal width (cm)</th>\n",
       "      <td>-0.117570</td>\n",
       "      <td>1.000000</td>\n",
       "      <td>-0.428440</td>\n",
       "      <td>-0.366126</td>\n",
       "    </tr>\n",
       "    <tr>\n",
       "      <th>petal length (cm)</th>\n",
       "      <td>0.871754</td>\n",
       "      <td>-0.428440</td>\n",
       "      <td>1.000000</td>\n",
       "      <td>0.962865</td>\n",
       "    </tr>\n",
       "    <tr>\n",
       "      <th>petal width (cm)</th>\n",
       "      <td>0.817941</td>\n",
       "      <td>-0.366126</td>\n",
       "      <td>0.962865</td>\n",
       "      <td>1.000000</td>\n",
       "    </tr>\n",
       "  </tbody>\n",
       "</table>\n",
       "</div>"
      ],
      "text/plain": [
       "                   sepal length (cm)  sepal width (cm)  petal length (cm)  \\\n",
       "sepal length (cm)           1.000000         -0.117570           0.871754   \n",
       "sepal width (cm)           -0.117570          1.000000          -0.428440   \n",
       "petal length (cm)           0.871754         -0.428440           1.000000   \n",
       "petal width (cm)            0.817941         -0.366126           0.962865   \n",
       "\n",
       "                   petal width (cm)  \n",
       "sepal length (cm)          0.817941  \n",
       "sepal width (cm)          -0.366126  \n",
       "petal length (cm)          0.962865  \n",
       "petal width (cm)           1.000000  "
      ]
     },
     "execution_count": 79,
     "metadata": {},
     "output_type": "execute_result"
    }
   ],
   "source": [
    "df.corr()"
   ]
  },
  {
   "cell_type": "code",
   "execution_count": 82,
   "id": "ebd68db7-654e-4027-8274-803c56a1eabb",
   "metadata": {},
   "outputs": [],
   "source": [
    " data = {\n",
    " 'emp_id': ['1', '2', '3', '4', '5'],\n",
    " 'first_name': ['Jason', 'Andy', 'Allen', 'Alice', 'Amy'],\n",
    " 'last_name': ['Larkin', 'Jacob', 'A', 'AA', 'Jackson']}\n"
   ]
  },
  {
   "cell_type": "code",
   "execution_count": 83,
   "id": "60a09af4-cbcb-4d7e-afd9-375834b54fff",
   "metadata": {},
   "outputs": [],
   "source": [
    " df_1 = pd.DataFrame(data, columns = ['emp_id', 'first_name', 'last_name'])\n"
   ]
  },
  {
   "cell_type": "code",
   "execution_count": 84,
   "id": "6dd6f731-3059-440f-8ea3-1cbcd78ff798",
   "metadata": {},
   "outputs": [],
   "source": [
    " data = {\n",
    " 'emp_id': ['4', '5', '6', '7'],\n",
    " 'first_name': ['Brian', 'Shize', 'Kim', 'Jose'],\n",
    " 'last_name': ['Alexander', 'Suma', 'Mike', 'G']}"
   ]
  },
  {
   "cell_type": "code",
   "execution_count": 85,
   "id": "02fab563-d575-4593-a3f7-a116d63c9945",
   "metadata": {},
   "outputs": [],
   "source": [
    " df_2 = pd.DataFrame(data, columns = ['emp_id', 'first_name', 'last_name'])\n"
   ]
  },
  {
   "cell_type": "code",
   "execution_count": 86,
   "id": "c1b0a15a-fdc0-42b2-909c-afb05413794e",
   "metadata": {},
   "outputs": [
    {
     "name": "stdout",
     "output_type": "stream",
     "text": [
      "  emp_id first_name  last_name\n",
      "0      1      Jason     Larkin\n",
      "1      2       Andy      Jacob\n",
      "2      3      Allen          A\n",
      "3      4      Alice         AA\n",
      "4      5        Amy    Jackson\n",
      "0      4      Brian  Alexander\n",
      "1      5      Shize       Suma\n",
      "2      6        Kim       Mike\n",
      "3      7       Jose          G\n"
     ]
    }
   ],
   "source": [
    " df = pd.concat([df_1, df_2])\n",
    " print(df)\n"
   ]
  },
  {
   "cell_type": "code",
   "execution_count": 87,
   "id": "7a7c943d-6de9-46b3-8792-9d8735d38a23",
   "metadata": {},
   "outputs": [
    {
     "data": {
      "text/html": [
       "<div>\n",
       "<style scoped>\n",
       "    .dataframe tbody tr th:only-of-type {\n",
       "        vertical-align: middle;\n",
       "    }\n",
       "\n",
       "    .dataframe tbody tr th {\n",
       "        vertical-align: top;\n",
       "    }\n",
       "\n",
       "    .dataframe thead th {\n",
       "        text-align: right;\n",
       "    }\n",
       "</style>\n",
       "<table border=\"1\" class=\"dataframe\">\n",
       "  <thead>\n",
       "    <tr style=\"text-align: right;\">\n",
       "      <th></th>\n",
       "      <th>emp_id</th>\n",
       "      <th>first_name</th>\n",
       "      <th>last_name</th>\n",
       "      <th>emp_id</th>\n",
       "      <th>first_name</th>\n",
       "      <th>last_name</th>\n",
       "    </tr>\n",
       "  </thead>\n",
       "  <tbody>\n",
       "    <tr>\n",
       "      <th>0</th>\n",
       "      <td>1</td>\n",
       "      <td>Jason</td>\n",
       "      <td>Larkin</td>\n",
       "      <td>4</td>\n",
       "      <td>Brian</td>\n",
       "      <td>Alexander</td>\n",
       "    </tr>\n",
       "    <tr>\n",
       "      <th>1</th>\n",
       "      <td>2</td>\n",
       "      <td>Andy</td>\n",
       "      <td>Jacob</td>\n",
       "      <td>5</td>\n",
       "      <td>Shize</td>\n",
       "      <td>Suma</td>\n",
       "    </tr>\n",
       "    <tr>\n",
       "      <th>2</th>\n",
       "      <td>3</td>\n",
       "      <td>Allen</td>\n",
       "      <td>A</td>\n",
       "      <td>6</td>\n",
       "      <td>Kim</td>\n",
       "      <td>Mike</td>\n",
       "    </tr>\n",
       "    <tr>\n",
       "      <th>3</th>\n",
       "      <td>4</td>\n",
       "      <td>Alice</td>\n",
       "      <td>AA</td>\n",
       "      <td>7</td>\n",
       "      <td>Jose</td>\n",
       "      <td>G</td>\n",
       "    </tr>\n",
       "    <tr>\n",
       "      <th>4</th>\n",
       "      <td>5</td>\n",
       "      <td>Amy</td>\n",
       "      <td>Jackson</td>\n",
       "      <td>NaN</td>\n",
       "      <td>NaN</td>\n",
       "      <td>NaN</td>\n",
       "    </tr>\n",
       "  </tbody>\n",
       "</table>\n",
       "</div>"
      ],
      "text/plain": [
       "  emp_id first_name last_name emp_id first_name  last_name\n",
       "0      1      Jason    Larkin      4      Brian  Alexander\n",
       "1      2       Andy     Jacob      5      Shize       Suma\n",
       "2      3      Allen         A      6        Kim       Mike\n",
       "3      4      Alice        AA      7       Jose          G\n",
       "4      5        Amy   Jackson    NaN        NaN        NaN"
      ]
     },
     "execution_count": 87,
     "metadata": {},
     "output_type": "execute_result"
    }
   ],
   "source": [
    " # Join the two dataframes along columns\n",
    " pd.concat([df_1, df_2], axis=1)\n",
    " "
   ]
  },
  {
   "cell_type": "code",
   "execution_count": 88,
   "id": "16c5539e-fd29-45a5-97d2-e70ad67fe961",
   "metadata": {},
   "outputs": [
    {
     "data": {
      "text/html": [
       "<div>\n",
       "<style scoped>\n",
       "    .dataframe tbody tr th:only-of-type {\n",
       "        vertical-align: middle;\n",
       "    }\n",
       "\n",
       "    .dataframe tbody tr th {\n",
       "        vertical-align: top;\n",
       "    }\n",
       "\n",
       "    .dataframe thead th {\n",
       "        text-align: right;\n",
       "    }\n",
       "</style>\n",
       "<table border=\"1\" class=\"dataframe\">\n",
       "  <thead>\n",
       "    <tr style=\"text-align: right;\">\n",
       "      <th></th>\n",
       "      <th>emp_id</th>\n",
       "      <th>first_name_x</th>\n",
       "      <th>last_name_x</th>\n",
       "      <th>first_name_y</th>\n",
       "      <th>last_name_y</th>\n",
       "    </tr>\n",
       "  </thead>\n",
       "  <tbody>\n",
       "    <tr>\n",
       "      <th>0</th>\n",
       "      <td>4</td>\n",
       "      <td>Alice</td>\n",
       "      <td>AA</td>\n",
       "      <td>Brian</td>\n",
       "      <td>Alexander</td>\n",
       "    </tr>\n",
       "    <tr>\n",
       "      <th>1</th>\n",
       "      <td>5</td>\n",
       "      <td>Amy</td>\n",
       "      <td>Jackson</td>\n",
       "      <td>Shize</td>\n",
       "      <td>Suma</td>\n",
       "    </tr>\n",
       "  </tbody>\n",
       "</table>\n",
       "</div>"
      ],
      "text/plain": [
       "  emp_id first_name_x last_name_x first_name_y last_name_y\n",
       "0      4        Alice          AA        Brian   Alexander\n",
       "1      5          Amy     Jackson        Shize        Suma"
      ]
     },
     "execution_count": 88,
     "metadata": {},
     "output_type": "execute_result"
    }
   ],
   "source": [
    " # Merge two dataframes based on the emp_id value\n",
    " # in this case only the emp_id's present in both table will be joined\n",
    " pd.merge(df_1, df_2, on='emp_id')\n"
   ]
  },
  {
   "cell_type": "code",
   "execution_count": 89,
   "id": "615b38ed-ba1d-4859-9099-577aee24468d",
   "metadata": {},
   "outputs": [
    {
     "name": "stdout",
     "output_type": "stream",
     "text": [
      "  emp_id first_name_x last_name_x first_name_y last_name_y\n",
      "0      1        Jason      Larkin          NaN         NaN\n",
      "1      2         Andy       Jacob          NaN         NaN\n",
      "2      3        Allen           A          NaN         NaN\n",
      "3      4        Alice          AA        Brian   Alexander\n",
      "4      5          Amy     Jackson        Shize        Suma\n"
     ]
    }
   ],
   "source": [
    " # Left join\n",
    " print(pd.merge(df_1, df_2, on='emp_id', how='left'))\n"
   ]
  },
  {
   "cell_type": "code",
   "execution_count": 95,
   "id": "f938e619-6f3b-437d-ac07-65b4c2d62d77",
   "metadata": {},
   "outputs": [
    {
     "name": "stdout",
     "output_type": "stream",
     "text": [
      "  emp_id first_name_left last_name_left first_name_right last_name_right\n",
      "0      1           Jason         Larkin              NaN             NaN\n",
      "1      2            Andy          Jacob              NaN             NaN\n",
      "2      3           Allen              A              NaN             NaN\n",
      "3      4           Alice             AA            Brian       Alexander\n",
      "4      5             Amy        Jackson            Shize            Suma\n"
     ]
    }
   ],
   "source": [
    "print(pd.merge(df_1, df_2, on='emp_id', how='left', suffixes=('_left', '_right')))\n",
    "\n",
    "\n"
   ]
  },
  {
   "cell_type": "code",
   "execution_count": 96,
   "id": "651a6c09-d550-4e59-824e-59ae07e0c5ab",
   "metadata": {},
   "outputs": [
    {
     "data": {
      "text/html": [
       "<div>\n",
       "<style scoped>\n",
       "    .dataframe tbody tr th:only-of-type {\n",
       "        vertical-align: middle;\n",
       "    }\n",
       "\n",
       "    .dataframe tbody tr th {\n",
       "        vertical-align: top;\n",
       "    }\n",
       "\n",
       "    .dataframe thead th {\n",
       "        text-align: right;\n",
       "    }\n",
       "</style>\n",
       "<table border=\"1\" class=\"dataframe\">\n",
       "  <thead>\n",
       "    <tr style=\"text-align: right;\">\n",
       "      <th></th>\n",
       "      <th>emp_id</th>\n",
       "      <th>first_name_x</th>\n",
       "      <th>last_name_x</th>\n",
       "      <th>first_name_y</th>\n",
       "      <th>last_name_y</th>\n",
       "    </tr>\n",
       "  </thead>\n",
       "  <tbody>\n",
       "    <tr>\n",
       "      <th>0</th>\n",
       "      <td>4</td>\n",
       "      <td>Alice</td>\n",
       "      <td>AA</td>\n",
       "      <td>Brian</td>\n",
       "      <td>Alexander</td>\n",
       "    </tr>\n",
       "    <tr>\n",
       "      <th>1</th>\n",
       "      <td>5</td>\n",
       "      <td>Amy</td>\n",
       "      <td>Jackson</td>\n",
       "      <td>Shize</td>\n",
       "      <td>Suma</td>\n",
       "    </tr>\n",
       "    <tr>\n",
       "      <th>2</th>\n",
       "      <td>6</td>\n",
       "      <td>NaN</td>\n",
       "      <td>NaN</td>\n",
       "      <td>Kim</td>\n",
       "      <td>Mike</td>\n",
       "    </tr>\n",
       "    <tr>\n",
       "      <th>3</th>\n",
       "      <td>7</td>\n",
       "      <td>NaN</td>\n",
       "      <td>NaN</td>\n",
       "      <td>Jose</td>\n",
       "      <td>G</td>\n",
       "    </tr>\n",
       "  </tbody>\n",
       "</table>\n",
       "</div>"
      ],
      "text/plain": [
       "  emp_id first_name_x last_name_x first_name_y last_name_y\n",
       "0      4        Alice          AA        Brian   Alexander\n",
       "1      5          Amy     Jackson        Shize        Suma\n",
       "2      6          NaN         NaN          Kim        Mike\n",
       "3      7          NaN         NaN         Jose           G"
      ]
     },
     "execution_count": 96,
     "metadata": {},
     "output_type": "execute_result"
    }
   ],
   "source": [
    "# Right join\n",
    "pd.merge(df_1, df_2, on='emp_id', how='right')"
   ]
  },
  {
   "cell_type": "code",
   "execution_count": 97,
   "id": "ffd893c2-d324-442d-a13f-a4e48b48b564",
   "metadata": {},
   "outputs": [
    {
     "data": {
      "text/html": [
       "<div>\n",
       "<style scoped>\n",
       "    .dataframe tbody tr th:only-of-type {\n",
       "        vertical-align: middle;\n",
       "    }\n",
       "\n",
       "    .dataframe tbody tr th {\n",
       "        vertical-align: top;\n",
       "    }\n",
       "\n",
       "    .dataframe thead th {\n",
       "        text-align: right;\n",
       "    }\n",
       "</style>\n",
       "<table border=\"1\" class=\"dataframe\">\n",
       "  <thead>\n",
       "    <tr style=\"text-align: right;\">\n",
       "      <th></th>\n",
       "      <th>emp_id</th>\n",
       "      <th>first_name_x</th>\n",
       "      <th>last_name_x</th>\n",
       "      <th>first_name_y</th>\n",
       "      <th>last_name_y</th>\n",
       "    </tr>\n",
       "  </thead>\n",
       "  <tbody>\n",
       "    <tr>\n",
       "      <th>0</th>\n",
       "      <td>4</td>\n",
       "      <td>Alice</td>\n",
       "      <td>AA</td>\n",
       "      <td>Brian</td>\n",
       "      <td>Alexander</td>\n",
       "    </tr>\n",
       "    <tr>\n",
       "      <th>1</th>\n",
       "      <td>5</td>\n",
       "      <td>Amy</td>\n",
       "      <td>Jackson</td>\n",
       "      <td>Shize</td>\n",
       "      <td>Suma</td>\n",
       "    </tr>\n",
       "  </tbody>\n",
       "</table>\n",
       "</div>"
      ],
      "text/plain": [
       "  emp_id first_name_x last_name_x first_name_y last_name_y\n",
       "0      4        Alice          AA        Brian   Alexander\n",
       "1      5          Amy     Jackson        Shize        Suma"
      ]
     },
     "execution_count": 97,
     "metadata": {},
     "output_type": "execute_result"
    }
   ],
   "source": [
    "# Inner Join\n",
    "pd.merge(df_1, df_2, on='emp_id', how='inner')"
   ]
  },
  {
   "cell_type": "code",
   "execution_count": 98,
   "id": "ff0e0709-a890-4760-8828-03ee01f73044",
   "metadata": {},
   "outputs": [
    {
     "data": {
      "text/html": [
       "<div>\n",
       "<style scoped>\n",
       "    .dataframe tbody tr th:only-of-type {\n",
       "        vertical-align: middle;\n",
       "    }\n",
       "\n",
       "    .dataframe tbody tr th {\n",
       "        vertical-align: top;\n",
       "    }\n",
       "\n",
       "    .dataframe thead th {\n",
       "        text-align: right;\n",
       "    }\n",
       "</style>\n",
       "<table border=\"1\" class=\"dataframe\">\n",
       "  <thead>\n",
       "    <tr style=\"text-align: right;\">\n",
       "      <th></th>\n",
       "      <th>emp_id</th>\n",
       "      <th>first_name_x</th>\n",
       "      <th>last_name_x</th>\n",
       "      <th>first_name_y</th>\n",
       "      <th>last_name_y</th>\n",
       "    </tr>\n",
       "  </thead>\n",
       "  <tbody>\n",
       "    <tr>\n",
       "      <th>0</th>\n",
       "      <td>1</td>\n",
       "      <td>Jason</td>\n",
       "      <td>Larkin</td>\n",
       "      <td>NaN</td>\n",
       "      <td>NaN</td>\n",
       "    </tr>\n",
       "    <tr>\n",
       "      <th>1</th>\n",
       "      <td>2</td>\n",
       "      <td>Andy</td>\n",
       "      <td>Jacob</td>\n",
       "      <td>NaN</td>\n",
       "      <td>NaN</td>\n",
       "    </tr>\n",
       "    <tr>\n",
       "      <th>2</th>\n",
       "      <td>3</td>\n",
       "      <td>Allen</td>\n",
       "      <td>A</td>\n",
       "      <td>NaN</td>\n",
       "      <td>NaN</td>\n",
       "    </tr>\n",
       "    <tr>\n",
       "      <th>3</th>\n",
       "      <td>4</td>\n",
       "      <td>Alice</td>\n",
       "      <td>AA</td>\n",
       "      <td>Brian</td>\n",
       "      <td>Alexander</td>\n",
       "    </tr>\n",
       "    <tr>\n",
       "      <th>4</th>\n",
       "      <td>5</td>\n",
       "      <td>Amy</td>\n",
       "      <td>Jackson</td>\n",
       "      <td>Shize</td>\n",
       "      <td>Suma</td>\n",
       "    </tr>\n",
       "    <tr>\n",
       "      <th>5</th>\n",
       "      <td>6</td>\n",
       "      <td>NaN</td>\n",
       "      <td>NaN</td>\n",
       "      <td>Kim</td>\n",
       "      <td>Mike</td>\n",
       "    </tr>\n",
       "    <tr>\n",
       "      <th>6</th>\n",
       "      <td>7</td>\n",
       "      <td>NaN</td>\n",
       "      <td>NaN</td>\n",
       "      <td>Jose</td>\n",
       "      <td>G</td>\n",
       "    </tr>\n",
       "  </tbody>\n",
       "</table>\n",
       "</div>"
      ],
      "text/plain": [
       "  emp_id first_name_x last_name_x first_name_y last_name_y\n",
       "0      1        Jason      Larkin          NaN         NaN\n",
       "1      2         Andy       Jacob          NaN         NaN\n",
       "2      3        Allen           A          NaN         NaN\n",
       "3      4        Alice          AA        Brian   Alexander\n",
       "4      5          Amy     Jackson        Shize        Suma\n",
       "5      6          NaN         NaN          Kim        Mike\n",
       "6      7          NaN         NaN         Jose           G"
      ]
     },
     "execution_count": 98,
     "metadata": {},
     "output_type": "execute_result"
    }
   ],
   "source": [
    "pd.merge(df_1, df_2, on='emp_id', how='outer')"
   ]
  },
  {
   "cell_type": "code",
   "execution_count": 99,
   "id": "c2eb0204-8d7b-4d58-b66c-7f46fd09b49b",
   "metadata": {},
   "outputs": [],
   "source": [
    "# Create the DataFrame\n",
    "df = pd.DataFrame({\n",
    "    'Name': ['jack', 'jane', 'jack', 'jane', 'jack', 'jane', 'jack', 'jane'],\n",
    "    'State': ['SFO', 'SFO', 'NYK', 'CA', 'NYK', 'NYK', 'SFO', 'CA'],\n",
    "    'Grade': ['A', 'A', 'B', 'A', 'C', 'B', 'C', 'A'],\n",
    "    'Age': np.random.uniform(24, 50, size=8),\n",
    "    'Salary': np.random.uniform(3000, 5000, size=8)\n",
    "})"
   ]
  },
  {
   "cell_type": "code",
   "execution_count": 100,
   "id": "28854764-d855-42fb-8fd6-5b59c6281a53",
   "metadata": {},
   "outputs": [
    {
     "name": "stdout",
     "output_type": "stream",
     "text": [
      "   Name State Grade        Age       Salary\n",
      "0  jack   SFO     A  34.293629  3596.152985\n",
      "1  jane   SFO     A  38.773157  3184.598113\n",
      "2  jack   NYK     B  47.839425  4148.563637\n",
      "3  jane    CA     A  45.322859  3483.898254\n",
      "4  jack   NYK     C  48.848299  3984.245494\n",
      "5  jane   NYK     B  30.052166  4055.593090\n",
      "6  jack   SFO     C  40.312542  3301.753821\n",
      "7  jane    CA     A  46.255806  3549.560174\n"
     ]
    }
   ],
   "source": [
    "# Display the DataFrame\n",
    "print(df)"
   ]
  },
  {
   "cell_type": "code",
   "execution_count": 101,
   "id": "35585a39-6a35-4077-921c-84a325805b3f",
   "metadata": {},
   "outputs": [
    {
     "data": {
      "text/html": [
       "<div>\n",
       "<style scoped>\n",
       "    .dataframe tbody tr th:only-of-type {\n",
       "        vertical-align: middle;\n",
       "    }\n",
       "\n",
       "    .dataframe tbody tr th {\n",
       "        vertical-align: top;\n",
       "    }\n",
       "\n",
       "    .dataframe thead th {\n",
       "        text-align: right;\n",
       "    }\n",
       "</style>\n",
       "<table border=\"1\" class=\"dataframe\">\n",
       "  <thead>\n",
       "    <tr style=\"text-align: right;\">\n",
       "      <th></th>\n",
       "      <th></th>\n",
       "      <th>Grade</th>\n",
       "      <th>Age</th>\n",
       "      <th>Salary</th>\n",
       "    </tr>\n",
       "    <tr>\n",
       "      <th>Name</th>\n",
       "      <th>State</th>\n",
       "      <th></th>\n",
       "      <th></th>\n",
       "      <th></th>\n",
       "    </tr>\n",
       "  </thead>\n",
       "  <tbody>\n",
       "    <tr>\n",
       "      <th rowspan=\"2\" valign=\"top\">jack</th>\n",
       "      <th>NYK</th>\n",
       "      <td>C</td>\n",
       "      <td>48.848299</td>\n",
       "      <td>4148.563637</td>\n",
       "    </tr>\n",
       "    <tr>\n",
       "      <th>SFO</th>\n",
       "      <td>C</td>\n",
       "      <td>40.312542</td>\n",
       "      <td>3596.152985</td>\n",
       "    </tr>\n",
       "    <tr>\n",
       "      <th rowspan=\"3\" valign=\"top\">jane</th>\n",
       "      <th>CA</th>\n",
       "      <td>A</td>\n",
       "      <td>46.255806</td>\n",
       "      <td>3549.560174</td>\n",
       "    </tr>\n",
       "    <tr>\n",
       "      <th>NYK</th>\n",
       "      <td>B</td>\n",
       "      <td>30.052166</td>\n",
       "      <td>4055.593090</td>\n",
       "    </tr>\n",
       "    <tr>\n",
       "      <th>SFO</th>\n",
       "      <td>A</td>\n",
       "      <td>38.773157</td>\n",
       "      <td>3184.598113</td>\n",
       "    </tr>\n",
       "  </tbody>\n",
       "</table>\n",
       "</div>"
      ],
      "text/plain": [
       "           Grade        Age       Salary\n",
       "Name State                              \n",
       "jack NYK       C  48.848299  4148.563637\n",
       "     SFO       C  40.312542  3596.152985\n",
       "jane CA        A  46.255806  3549.560174\n",
       "     NYK       B  30.052166  4055.593090\n",
       "     SFO       A  38.773157  3184.598113"
      ]
     },
     "execution_count": 101,
     "metadata": {},
     "output_type": "execute_result"
    }
   ],
   "source": [
    "# Find max age and salary by Name / State\n",
    "# with groupby, we can use all aggregate functions such as min, max, mean, count, cumsum\n",
    "df.groupby(['Name','State']).max()"
   ]
  },
  {
   "cell_type": "code",
   "execution_count": 102,
   "id": "1ebe622f-96fc-4d9e-8fc4-9a0b4b4a0ad4",
   "metadata": {},
   "outputs": [
    {
     "data": {
      "text/html": [
       "<div>\n",
       "<style scoped>\n",
       "    .dataframe tbody tr th:only-of-type {\n",
       "        vertical-align: middle;\n",
       "    }\n",
       "\n",
       "    .dataframe tbody tr th {\n",
       "        vertical-align: top;\n",
       "    }\n",
       "\n",
       "    .dataframe thead th {\n",
       "        text-align: right;\n",
       "    }\n",
       "</style>\n",
       "<table border=\"1\" class=\"dataframe\">\n",
       "  <thead>\n",
       "    <tr style=\"text-align: right;\">\n",
       "      <th></th>\n",
       "      <th>Grade</th>\n",
       "      <th>A</th>\n",
       "      <th>B</th>\n",
       "      <th>C</th>\n",
       "    </tr>\n",
       "    <tr>\n",
       "      <th>State</th>\n",
       "      <th>Name</th>\n",
       "      <th></th>\n",
       "      <th></th>\n",
       "      <th></th>\n",
       "    </tr>\n",
       "  </thead>\n",
       "  <tbody>\n",
       "    <tr>\n",
       "      <th>CA</th>\n",
       "      <th>jane</th>\n",
       "      <td>45.789332</td>\n",
       "      <td>NaN</td>\n",
       "      <td>NaN</td>\n",
       "    </tr>\n",
       "    <tr>\n",
       "      <th rowspan=\"2\" valign=\"top\">NYK</th>\n",
       "      <th>jack</th>\n",
       "      <td>NaN</td>\n",
       "      <td>47.839425</td>\n",
       "      <td>48.848299</td>\n",
       "    </tr>\n",
       "    <tr>\n",
       "      <th>jane</th>\n",
       "      <td>NaN</td>\n",
       "      <td>30.052166</td>\n",
       "      <td>NaN</td>\n",
       "    </tr>\n",
       "    <tr>\n",
       "      <th rowspan=\"2\" valign=\"top\">SFO</th>\n",
       "      <th>jack</th>\n",
       "      <td>34.293629</td>\n",
       "      <td>NaN</td>\n",
       "      <td>40.312542</td>\n",
       "    </tr>\n",
       "    <tr>\n",
       "      <th>jane</th>\n",
       "      <td>38.773157</td>\n",
       "      <td>NaN</td>\n",
       "      <td>NaN</td>\n",
       "    </tr>\n",
       "  </tbody>\n",
       "</table>\n",
       "</div>"
      ],
      "text/plain": [
       "Grade               A          B          C\n",
       "State Name                                 \n",
       "CA    jane  45.789332        NaN        NaN\n",
       "NYK   jack        NaN  47.839425  48.848299\n",
       "      jane        NaN  30.052166        NaN\n",
       "SFO   jack  34.293629        NaN  40.312542\n",
       "      jane  38.773157        NaN        NaN"
      ]
     },
     "execution_count": 102,
     "metadata": {},
     "output_type": "execute_result"
    }
   ],
   "source": [
    "# by state and name find mean age for each grade\n",
    "pd.pivot_table(df, values='Age', index=['State', 'Name'], columns=['Grade'])"
   ]
  },
  {
   "cell_type": "code",
   "execution_count": null,
   "id": "9d268484-3bd6-4020-8cbe-61e12478bf39",
   "metadata": {},
   "outputs": [],
   "source": []
  }
 ],
 "metadata": {
  "kernelspec": {
   "display_name": "Python 3 (ipykernel)",
   "language": "python",
   "name": "python3"
  },
  "language_info": {
   "codemirror_mode": {
    "name": "ipython",
    "version": 3
   },
   "file_extension": ".py",
   "mimetype": "text/x-python",
   "name": "python",
   "nbconvert_exporter": "python",
   "pygments_lexer": "ipython3",
   "version": "3.13.5"
  }
 },
 "nbformat": 4,
 "nbformat_minor": 5
}
